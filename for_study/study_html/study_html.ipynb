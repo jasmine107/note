{
 "cells": [
  {
   "cell_type": "markdown",
   "metadata": {},
   "source": [
    "# HTLMとは\n",
    "\n",
    "HTMLとは、HyperText Markup Language の略称で、WEBページを作成する際に、用いる言語のことです。\n",
    "\n",
    "HTMLを使用することによって可能になることは、\n",
    "\n",
    "* 文章の論理構造を示す。\n",
    "* 即時性の高い情報のインタラクティブな共有と活用。（SNS、Eコマース、音楽・動画配信など）\n",
    "\n",
    "タグを使い、文章に意味づけ（マークアップ）を行うため、マークアップ言語として分類されます。また、この際に使用するタグをHTMLタグと呼びます。HTMLの仕様は、W3Cによって策定されています。SEOを行う上でも、HTMLを使用に従い、正しく使用することが大切です。\n",
    "\n",
    "[参考サイト](https://developer.mozilla.org/ja/docs/Learn/HTML/Introduction_to_HTML/Getting_started)"
   ]
  },
  {
   "cell_type": "markdown",
   "metadata": {},
   "source": [
    "# 文章の論理構造\n",
    "\n",
    "![alt explain text](ireko.png)"
   ]
  },
  {
   "cell_type": "code",
   "execution_count": null,
   "metadata": {},
   "outputs": [],
   "source": []
  },
  {
   "cell_type": "code",
   "execution_count": 17,
   "metadata": {},
   "outputs": [
    {
     "data": {
      "text/html": [
       "<!DOCTYPE html>\n",
       "<html lang=\"ja\">\n",
       "    <head>\n",
       "        <title>Start Study HTML</title>\n",
       "    </head>        \n",
       "    <body>\n",
       "        <p>This is HTML Document.\n",
       "            <a>Here is anchor.</a>\n",
       "        </p>\n",
       "    </head>\n",
       "</html>"
      ],
      "text/plain": [
       "<IPython.core.display.HTML object>"
      ]
     },
     "metadata": {},
     "output_type": "display_data"
    }
   ],
   "source": [
    "%%HTML\n",
    "<!DOCTYPE html>\n",
    "<html lang=\"ja\">\n",
    "    <head>\n",
    "        <title>Start Study HTML</title>\n",
    "    </head>        \n",
    "    <body>\n",
    "        <p>This is HTML Document.\n",
    "            <a>Here is anchor.</a>\n",
    "        </p>\n",
    "    </head>\n",
    "</html>"
   ]
  },
  {
   "cell_type": "markdown",
   "metadata": {},
   "source": [
    "# 学習したこと"
   ]
  },
  {
   "cell_type": "markdown",
   "metadata": {},
   "source": [
    "## tag"
   ]
  },
  {
   "cell_type": "markdown",
   "metadata": {},
   "source": [
    "# h"
   ]
  },
  {
   "cell_type": "code",
   "execution_count": 18,
   "metadata": {},
   "outputs": [
    {
     "data": {
      "text/html": [
       "<h1>hello</h1>\n",
       "<h2>hello</h2>\n",
       "<h2>hello</h3>\n",
       "<h3>hello</h4>\n",
       "<h4>hello</h5>\n",
       "<h5>hello</h6>"
      ],
      "text/plain": [
       "<IPython.core.display.HTML object>"
      ]
     },
     "metadata": {},
     "output_type": "display_data"
    }
   ],
   "source": [
    "%%HTML\n",
    "<h1>hello</h1>\n",
    "<h2>hello</h2>\n",
    "<h2>hello</h3>\n",
    "<h3>hello</h4>\n",
    "<h4>hello</h5>\n",
    "<h5>hello</h6>"
   ]
  },
  {
   "cell_type": "markdown",
   "metadata": {},
   "source": [
    "# p"
   ]
  },
  {
   "cell_type": "code",
   "execution_count": 13,
   "metadata": {},
   "outputs": [
    {
     "data": {
      "text/html": [
       "<p>本文</p>"
      ],
      "text/plain": [
       "<IPython.core.display.HTML object>"
      ]
     },
     "metadata": {},
     "output_type": "display_data"
    }
   ],
   "source": [
    "%%HTML\n",
    "<p>本文</p>"
   ]
  },
  {
   "cell_type": "markdown",
   "metadata": {},
   "source": [
    "# img"
   ]
  },
  {
   "cell_type": "code",
   "execution_count": 19,
   "metadata": {},
   "outputs": [
    {
     "data": {
      "text/html": [
       "<img src=\"ireko.png\">"
      ],
      "text/plain": [
       "<IPython.core.display.HTML object>"
      ]
     },
     "metadata": {},
     "output_type": "display_data"
    }
   ],
   "source": [
    "%%HTML\n",
    "<img src=\"ireko.png\">"
   ]
  },
  {
   "cell_type": "code",
   "execution_count": null,
   "metadata": {},
   "outputs": [],
   "source": []
  }
 ],
 "metadata": {
  "kernelspec": {
   "display_name": "Python 3",
   "language": "python",
   "name": "python3"
  },
  "language_info": {
   "codemirror_mode": {
    "name": "ipython",
    "version": 3
   },
   "file_extension": ".py",
   "mimetype": "text/x-python",
   "name": "python",
   "nbconvert_exporter": "python",
   "pygments_lexer": "ipython3",
   "version": "3.7.2"
  }
 },
 "nbformat": 4,
 "nbformat_minor": 2
}
